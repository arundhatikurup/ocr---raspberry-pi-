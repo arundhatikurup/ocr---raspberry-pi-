{
 "cells": [
  {
   "cell_type": "code",
   "execution_count": 4,
   "metadata": {
    "collapsed": false
   },
   "outputs": [],
   "source": [
    "import numpy as np\n",
    "import cv2\n",
    "import matplotlib as plt"
   ]
  },
  {
   "cell_type": "code",
   "execution_count": 5,
   "metadata": {
    "collapsed": false
   },
   "outputs": [
    {
     "name": "stdout",
     "output_type": "stream",
     "text": [
      "4\n",
      "[[[ 2 -1  1 -1]\n",
      "  [-1 -1 -1  0]\n",
      "  [-1  0  3 -1]\n",
      "  [-1 -1 -1  2]]]\n"
     ]
    }
   ],
   "source": [
    "im = cv2.imread('test.jpg')\n",
    "imgray = cv2.cvtColor(im,cv2.COLOR_BGR2GRAY)\n",
    "ret,thresh = cv2.threshold(imgray,127,255,0)\n",
    "#cv2.namedWindow('image')\n",
    "#cv2.imshow(\"image\",thresh)\n",
    "#cv2.waitKey(20)\n",
    "im2, contours, hierarchy = cv2.findContours(thresh,cv2.RETR_TREE,cv2.CHAIN_APPROX_SIMPLE)\n",
    "print len(contours)\n",
    "print hierarchy"
   ]
  },
  {
   "cell_type": "code",
   "execution_count": 6,
   "metadata": {
    "collapsed": false
   },
   "outputs": [
    {
     "name": "stdout",
     "output_type": "stream",
     "text": [
      "267.5\n",
      "68.0\n",
      "266.0\n",
      "68.0\n"
     ]
    }
   ],
   "source": [
    "for c in contours:\n",
    "    rect = cv2.boundingRect(c)\n",
    "    print cv2.contourArea(c)\n",
    "    x,y,w,h = rect\n",
    "    cv2.rectangle(im,(x,y),(x+w,y+h),(0,255,0),2)\n",
    "cv2.namedWindow(\"Show\")\n",
    "cv2.imshow(\"Show\",im)        \n",
    "cv2.waitKey()\n",
    "cv2.destroyAllWindows()"
   ]
  }
 ],
 "metadata": {
  "kernelspec": {
   "display_name": "Python 2",
   "language": "python",
   "name": "python2"
  },
  "language_info": {
   "codemirror_mode": {
    "name": "ipython",
    "version": 2
   },
   "file_extension": ".py",
   "mimetype": "text/x-python",
   "name": "python",
   "nbconvert_exporter": "python",
   "pygments_lexer": "ipython2",
   "version": "2.7.13"
  }
 },
 "nbformat": 4,
 "nbformat_minor": 2
}
